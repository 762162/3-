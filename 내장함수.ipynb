{
 "cells": [
  {
   "cell_type": "code",
   "execution_count": 1,
   "metadata": {},
   "outputs": [],
   "source": [
    "#input 내장함수"
   ]
  },
  {
   "cell_type": "code",
   "execution_count": 4,
   "metadata": {},
   "outputs": [
    {
     "name": "stdout",
     "output_type": "stream",
     "text": [
      "123\n"
     ]
    }
   ],
   "source": [
    "a = input('표시할 내용')\n",
    "print(a)"
   ]
  },
  {
   "cell_type": "code",
   "execution_count": 3,
   "metadata": {},
   "outputs": [
    {
     "name": "stdout",
     "output_type": "stream",
     "text": [
      "123\n",
      "<class 'str'>\n"
     ]
    }
   ],
   "source": [
    "#문자열 입력받기\n",
    "msg1 = input(\"메세지를 입력하세요\")\n",
    "print(msg1)\n",
    "\n",
    "#입력 받은 내용의 데이터 타입 확인 --> 문자열(str)\n",
    "t = type(msg1)\n",
    "print(t)\n"
   ]
  },
  {
   "cell_type": "code",
   "execution_count": 17,
   "metadata": {},
   "outputs": [
    {
     "name": "stdout",
     "output_type": "stream",
     "text": [
      "3\n"
     ]
    }
   ],
   "source": [
    "#int 함수 str에서 int로 변환\n",
    "a = input(\"정수를 입력하세요\")\n",
    "b = input(\"정수를 입력하세요\")\n",
    "\n",
    "c = int(a)\n",
    "d = int(b)\n",
    "print(c+d)"
   ]
  },
  {
   "cell_type": "code",
   "execution_count": 10,
   "metadata": {},
   "outputs": [
    {
     "name": "stdout",
     "output_type": "stream",
     "text": [
      "100.0\n",
      "<class 'float'>\n"
     ]
    }
   ],
   "source": [
    "#정수를 실수로 변환 > 정수 뒤에 \".0\"이 추가됨\n",
    "num1 = 100\n",
    "num2 = float(num1)\n",
    "print(num2)\n",
    "\n",
    "#변환 결과의 데이터 타입 확인 -->실수(float)\n",
    "t1 = type(num2)\n",
    "print(t1)"
   ]
  },
  {
   "cell_type": "code",
   "execution_count": 13,
   "metadata": {},
   "outputs": [
    {
     "name": "stdout",
     "output_type": "stream",
     "text": [
      "123\n",
      "<class 'int'>\n"
     ]
    }
   ],
   "source": [
    "#실수를 정수로 변환 > 소수점 버림\n",
    "num3 = 123.88\n",
    "num4 = int(num3)\n",
    "print(num4)\n",
    "\n",
    "#변환 결과의 데이터 타입 확인 >정수(int)\n",
    "t2 = type(num4)\n",
    "print(t2)"
   ]
  },
  {
   "cell_type": "code",
   "execution_count": 15,
   "metadata": {},
   "outputs": [
    {
     "name": "stdout",
     "output_type": "stream",
     "text": [
      "<class 'str'>\n"
     ]
    }
   ],
   "source": [
    "w = input(\"뭐든 입력하세요\")\n",
    "r = type(w)\n",
    "\n",
    "print(r)"
   ]
  },
  {
   "cell_type": "code",
   "execution_count": 18,
   "metadata": {},
   "outputs": [
    {
     "name": "stdout",
     "output_type": "stream",
     "text": [
      "Lifeisshort\n",
      "Lifeisshort\n"
     ]
    }
   ],
   "source": [
    "#문장 사이에 공백을 넣으나 +를 넣으나 똑같다\n",
    "print(\"Life\" + \"is\" + \"short\")\n",
    "print(\"Life\" \"is\" \"short\")"
   ]
  },
  {
   "cell_type": "code",
   "execution_count": 23,
   "metadata": {},
   "outputs": [
    {
     "name": "stdout",
     "output_type": "stream",
     "text": [
      "Life short 100\n"
     ]
    }
   ],
   "source": [
    "#문장을 콤마로 구분하면 띄어쓰기가 수행된다.\n",
    "# -> 문자열 이외의 다른 타입의 변수도 사용 가능함\n",
    "a=100\n",
    "print('Life','short', a)"
   ]
  },
  {
   "cell_type": "code",
   "execution_count": 33,
   "metadata": {},
   "outputs": [
    {
     "name": "stdout",
     "output_type": "stream",
     "text": [
      "Life is  short "
     ]
    }
   ],
   "source": [
    "print(\"Life\",end=\" \")\n",
    "print(\"is \",end=\" \")\n",
    "print(\"short \", end=\"\")"
   ]
  },
  {
   "cell_type": "code",
   "execution_count": 40,
   "metadata": {},
   "outputs": [],
   "source": [
    "#end는 출력후 마무리를 어떻게 할지 지정하는 기능\n",
    "#기본 end는 줄바꿈(\\n)으로 설정되어있다"
   ]
  },
  {
   "cell_type": "code",
   "execution_count": 39,
   "metadata": {},
   "outputs": [
    {
     "name": "stdout",
     "output_type": "stream",
     "text": [
      "256\n"
     ]
    }
   ],
   "source": [
    "#제곱근 구하기\n",
    "a = pow(2,8)\n",
    "print(a)"
   ]
  },
  {
   "cell_type": "code",
   "execution_count": 38,
   "metadata": {},
   "outputs": [
    {
     "name": "stdout",
     "output_type": "stream",
     "text": [
      "100\n",
      "100\n",
      "12.345\n"
     ]
    }
   ],
   "source": [
    "#절댓값 구하기\n",
    "a   = abs(100)\n",
    "\n",
    "print(a)\n",
    "\n",
    "\n",
    "b = abs(-100)\n",
    "print(b)\n",
    "\n",
    "c = abs(-12.345)\n",
    "print(c)"
   ]
  },
  {
   "cell_type": "code",
   "execution_count": null,
   "metadata": {},
   "outputs": [],
   "source": []
  }
 ],
 "metadata": {
  "kernelspec": {
   "display_name": "Python 3",
   "language": "python",
   "name": "python3"
  },
  "language_info": {
   "codemirror_mode": {
    "name": "ipython",
    "version": 3
   },
   "file_extension": ".py",
   "mimetype": "text/x-python",
   "name": "python",
   "nbconvert_exporter": "python",
   "pygments_lexer": "ipython3",
   "version": "3.12.0"
  }
 },
 "nbformat": 4,
 "nbformat_minor": 2
}
